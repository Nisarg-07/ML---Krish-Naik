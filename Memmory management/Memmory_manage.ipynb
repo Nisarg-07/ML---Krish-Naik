{
 "cells": [
  {
   "cell_type": "code",
   "execution_count": 2,
   "metadata": {},
   "outputs": [
    {
     "name": "stdout",
     "output_type": "stream",
     "text": [
      "obj1 object created\n",
      "obj2 object created\n",
      "obj1 object deleted\n",
      "obj2 object deleted\n",
      "obj1 object deleted\n",
      "obj2 object deleted\n"
     ]
    },
    {
     "data": {
      "text/plain": [
       "12"
      ]
     },
     "execution_count": 2,
     "metadata": {},
     "output_type": "execute_result"
    }
   ],
   "source": [
    "import gc\n",
    "\n",
    "class MyObject:\n",
    "    def __init__(self,name):\n",
    "        self.name= name\n",
    "        print(f'{self.name} object created')\n",
    "    \n",
    "    def __del__(self):\n",
    "        print(f'{self.name} object deleted')\n",
    "\n",
    "# Circular refrence\n",
    "\n",
    "obj1 = MyObject('obj1')\n",
    "obj2 = MyObject('obj2')\n",
    "obj1.ref= obj2\n",
    "obj2.ref= obj1\n",
    "\n",
    "del obj1\n",
    "del obj2\n",
    "\n",
    "# Manually trigger the garbage collection\n",
    "\n",
    "gc.collect()\n",
    "\n",
    "\n",
    "# TAKEAWAY\n",
    "\n",
    "# Do not create circulular refrence \n",
    "    \n"
   ]
  },
  {
   "cell_type": "code",
   "execution_count": 8,
   "metadata": {},
   "outputs": [
    {
     "name": "stdout",
     "output_type": "stream",
     "text": [
      "0\n",
      "1\n",
      "2\n",
      "3\n",
      "4\n",
      "5\n",
      "6\n",
      "7\n",
      "8\n",
      "9\n",
      "10\n",
      "11\n"
     ]
    }
   ],
   "source": [
    "# Generators for memory efficiency \n",
    "\n",
    "def generate_number(n):\n",
    "    for i in range(n):\n",
    "        yield i\n",
    "\n",
    "for num in generate_number(1000):\n",
    "    print(num)\n",
    "    if num>10:\n",
    "        break\n",
    "\n"
   ]
  },
  {
   "cell_type": "code",
   "execution_count": 11,
   "metadata": {},
   "outputs": [],
   "source": [
    "# Profiling memmory usage with Tracemalloc\n",
    "\n",
    "import tracemalloc\n",
    "\n",
    "def create_list():\n",
    "    return [i for i in range(100)]\n",
    "\n",
    "def main():\n",
    "    tracemalloc.start()\n",
    "\n",
    "    create_list()\n",
    "\n",
    "    snapshot = tracemalloc.take_snapshot()\n",
    "    top_stats = snapshot.statistics('lineno')\n",
    "\n",
    "    print('[Top 10]')\n",
    "    for stat in top_stats[:10]:\n",
    "        print(stat)\n",
    "\n",
    "\n",
    "\n",
    "\n"
   ]
  },
  {
   "cell_type": "code",
   "execution_count": 12,
   "metadata": {},
   "outputs": [
    {
     "name": "stdout",
     "output_type": "stream",
     "text": [
      "[Top 10]\n",
      "/opt/anaconda3/envs/venv/lib/python3.11/json/decoder.py:353: size=2180 B, count=24, average=91 B\n",
      "/opt/anaconda3/envs/venv/lib/python3.11/codeop.py:118: size=1728 B, count=13, average=133 B\n",
      "/opt/anaconda3/envs/venv/lib/python3.11/threading.py:258: size=1520 B, count=4, average=380 B\n",
      "/opt/anaconda3/envs/venv/lib/python3.11/site-packages/traitlets/traitlets.py:744: size=1416 B, count=20, average=71 B\n",
      "/opt/anaconda3/envs/venv/lib/python3.11/site-packages/zmq/sugar/attrsettr.py:44: size=1375 B, count=25, average=55 B\n",
      "/opt/anaconda3/envs/venv/lib/python3.11/site-packages/jupyter_client/session.py:100: size=1247 B, count=8, average=156 B\n",
      "/opt/anaconda3/envs/venv/lib/python3.11/site-packages/IPython/core/compilerop.py:174: size=1201 B, count=15, average=80 B\n",
      "/opt/anaconda3/envs/venv/lib/python3.11/site-packages/zmq/sugar/socket.py:808: size=1104 B, count=6, average=184 B\n",
      "/opt/anaconda3/envs/venv/lib/python3.11/site-packages/traitlets/traitlets.py:1502: size=1080 B, count=9, average=120 B\n",
      "/opt/anaconda3/envs/venv/lib/python3.11/site-packages/traitlets/traitlets.py:1535: size=1040 B, count=15, average=69 B\n"
     ]
    }
   ],
   "source": [
    "main()"
   ]
  },
  {
   "cell_type": "code",
   "execution_count": null,
   "metadata": {},
   "outputs": [],
   "source": []
  }
 ],
 "metadata": {
  "kernelspec": {
   "display_name": "Python 3",
   "language": "python",
   "name": "python3"
  },
  "language_info": {
   "codemirror_mode": {
    "name": "ipython",
    "version": 3
   },
   "file_extension": ".py",
   "mimetype": "text/x-python",
   "name": "python",
   "nbconvert_exporter": "python",
   "pygments_lexer": "ipython3",
   "version": "3.11.5"
  }
 },
 "nbformat": 4,
 "nbformat_minor": 2
}
