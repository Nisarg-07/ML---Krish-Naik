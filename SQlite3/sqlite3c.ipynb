{
 "cells": [
  {
   "cell_type": "code",
   "execution_count": 14,
   "metadata": {},
   "outputs": [],
   "source": [
    "import sqlite3"
   ]
  },
  {
   "cell_type": "code",
   "execution_count": 15,
   "metadata": {},
   "outputs": [
    {
     "data": {
      "text/plain": [
       "<sqlite3.Connection at 0x1166454e0>"
      ]
     },
     "execution_count": 15,
     "metadata": {},
     "output_type": "execute_result"
    }
   ],
   "source": [
    "# Connect to sqlite3 database\n",
    "connection = sqlite3.connect('example.db')\n",
    "connection\n"
   ]
  },
  {
   "cell_type": "code",
   "execution_count": 16,
   "metadata": {},
   "outputs": [],
   "source": [
    "cursor = connection.cursor()\n"
   ]
  },
  {
   "cell_type": "code",
   "execution_count": 17,
   "metadata": {},
   "outputs": [],
   "source": [
    "cursor.execute('''\n",
    "Create table if not exists Employee(\n",
    "               id Integrer primary key,\n",
    "               name Text Not null,\n",
    "               age integer,\n",
    "               department varchar\n",
    "               )\n",
    "\n",
    "''')\n",
    "connection.commit()"
   ]
  },
  {
   "cell_type": "code",
   "execution_count": 27,
   "metadata": {},
   "outputs": [],
   "source": [
    "# Insert the data into Employee\n",
    "\n",
    "cursor.execute('''\n",
    "INSERT into Employee(id,name,age,department)\n",
    "               values(1,'Nisarg',22,'AIML Graduate')\n",
    "''')\n",
    "\n",
    "cursor.execute('''\n",
    "INSERT into Employee(id,name,age,department)\n",
    "               values(2,'Manav',21,'Chemical Trainee')\n",
    "''')\n",
    "\n",
    "cursor.execute('''\n",
    "INSERT into Employee(id,name,age,department)\n",
    "               values(3,'Akshar',24, 'Mechanical Associate')\n",
    "''')\n",
    "\n",
    "connection.commit()"
   ]
  },
  {
   "cell_type": "code",
   "execution_count": 28,
   "metadata": {},
   "outputs": [
    {
     "name": "stdout",
     "output_type": "stream",
     "text": [
      "(1, 'Nisarg', 22, 'AIML Graduate')\n",
      "(2, 'Manav', 21, 'Chemical Trainee')\n",
      "(3, 'Akshar', 24, 'Mechanical Associate')\n"
     ]
    }
   ],
   "source": [
    "# Fatching the data from the table\n",
    "cursor.execute('SELECT * from Employee')\n",
    "rows = cursor.fetchall()\n",
    "\n",
    "for row in rows:\n",
    "    print(row)\n"
   ]
  },
  {
   "cell_type": "code",
   "execution_count": 30,
   "metadata": {},
   "outputs": [],
   "source": [
    "# Update the table \n",
    "cursor.execute('''\n",
    "UPDATE Employee\n",
    "               set age = 24\n",
    "               where name =='Nisarg'\n",
    "''')\n",
    "connection.commit()"
   ]
  },
  {
   "cell_type": "code",
   "execution_count": 31,
   "metadata": {},
   "outputs": [
    {
     "name": "stdout",
     "output_type": "stream",
     "text": [
      "(1, 'Nisarg', 24, 'AIML Graduate')\n",
      "(2, 'Manav', 21, 'Chemical Trainee')\n",
      "(3, 'Akshar', 24, 'Mechanical Associate')\n"
     ]
    }
   ],
   "source": [
    "cursor.execute('SELECT * from Employee')\n",
    "rows = cursor.fetchall()\n",
    "\n",
    "for row in rows:\n",
    "    print(row)"
   ]
  },
  {
   "cell_type": "code",
   "execution_count": 32,
   "metadata": {},
   "outputs": [],
   "source": [
    "# Delete the data from the table\n",
    "cursor.execute('''\n",
    "Delete from Employee\n",
    "               where name ='Akshar'\n",
    "''')\n",
    "connection.commit()"
   ]
  },
  {
   "cell_type": "code",
   "execution_count": 33,
   "metadata": {},
   "outputs": [
    {
     "name": "stdout",
     "output_type": "stream",
     "text": [
      "(1, 'Nisarg', 24, 'AIML Graduate')\n",
      "(2, 'Manav', 21, 'Chemical Trainee')\n"
     ]
    }
   ],
   "source": [
    "cursor.execute('SELECT * from Employee')\n",
    "rows = cursor.fetchall()\n",
    "\n",
    "for row in rows:\n",
    "    print(row)"
   ]
  },
  {
   "cell_type": "code",
   "execution_count": 35,
   "metadata": {},
   "outputs": [
    {
     "data": {
      "text/plain": [
       "<sqlite3.Cursor at 0x116683240>"
      ]
     },
     "execution_count": 35,
     "metadata": {},
     "output_type": "execute_result"
    }
   ],
   "source": [
    "# Working with Sales data\n",
    "\n",
    "connection = sqlite3.connect('sales_data.db')\n",
    "cursor = connection.cursor()\n",
    "\n",
    "# Table for Sales data \n",
    "\n",
    "cursor.execute('''\n",
    "CREATE TABLE IF NOT EXISTS SALES(\n",
    "               ID INTEGER PRIMARY KEY,\n",
    "               DATE TEXT NOT NULL,\n",
    "               PRODUCT TEXT NOT NULL,\n",
    "               SALES INTEGER,\n",
    "               REGION TEXT NOT NULL)\n",
    "\n",
    "''')\n",
    "\n",
    "# INSERT DATA \n",
    "\n",
    "Sales_data = [\n",
    "    (1,'2024-08-01','P1',100,'North'),\n",
    "    (2,'2024-08-02','P2',200,'South'),\n",
    "    (3,'2024-08-03','P1',100,'West'),\n",
    "    (4,'2024-08-04','P2',200,'East'),\n",
    "    (5,'2024-08-05','P3',300,'North')\n",
    "              ]\n",
    "\n",
    "cursor.executemany('''\n",
    "INSERT INTO SALES(ID,DATE,PRODUCT,SALES,REGION)\n",
    "                   values(?,?,?,?,?)\n",
    "''',Sales_data)\n"
   ]
  },
  {
   "cell_type": "code",
   "execution_count": 36,
   "metadata": {},
   "outputs": [],
   "source": [
    "connection.commit()"
   ]
  },
  {
   "cell_type": "code",
   "execution_count": 37,
   "metadata": {},
   "outputs": [
    {
     "name": "stdout",
     "output_type": "stream",
     "text": [
      "(1, '2024-08-01', 'P1', 100, 'North')\n",
      "(2, '2024-08-02', 'P2', 200, 'South')\n",
      "(3, '2024-08-03', 'P1', 100, 'West')\n",
      "(4, '2024-08-04', 'P2', 200, 'East')\n",
      "(5, '2024-08-05', 'P3', 300, 'North')\n"
     ]
    }
   ],
   "source": [
    "cursor.execute('SELECT * FROM SALES')\n",
    "rows = cursor.fetchall()\n",
    "for row in rows:\n",
    "    print(row)"
   ]
  },
  {
   "cell_type": "code",
   "execution_count": null,
   "metadata": {},
   "outputs": [],
   "source": []
  }
 ],
 "metadata": {
  "kernelspec": {
   "display_name": "Python 3",
   "language": "python",
   "name": "python3"
  },
  "language_info": {
   "codemirror_mode": {
    "name": "ipython",
    "version": 3
   },
   "file_extension": ".py",
   "mimetype": "text/x-python",
   "name": "python",
   "nbconvert_exporter": "python",
   "pygments_lexer": "ipython3",
   "version": "3.11.5"
  }
 },
 "nbformat": 4,
 "nbformat_minor": 2
}
